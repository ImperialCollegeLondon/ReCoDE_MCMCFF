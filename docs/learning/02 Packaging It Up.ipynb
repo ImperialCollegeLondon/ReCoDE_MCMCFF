{
 "cells": [
  {
   "cell_type": "markdown",
   "id": "dcddb3be-940b-4416-aec5-7159354c7cc0",
   "metadata": {},
   "source": [
    "<h1 align=\"center\">Markov Chain Monte Carlo for fun and profit</h1>\n",
    "<h1 align=\"center\"> 🎲 ⛓️ 👉 🧪 </h1>"
   ]
  },
  {
   "cell_type": "markdown",
   "id": "5e745b48-9cde-49d1-b91b-b04282f6d30d",
   "metadata": {},
   "source": [
    "# Packaging It Up\n",
    "\n",
    "Before we proceed with writing any more code I want to put what we already have in python file and make it into an installable module. This will be useful both for importing code into these notebooks and for testing later."
   ]
  },
  {
   "cell_type": "markdown",
   "id": "b656f309-1c70-4bc1-842e-bdf2d43d1397",
   "metadata": {},
   "source": [
    "## Directory Structure\n",
    "More info:\n",
    "- [General Python Packaging advice](https://packaging.python.org/en/latest/tutorials/packaging-projects/)\n",
    "- [Packaging for pytest](https://docs.pytest.org/en/6.2.x/goodpractices.html)\n",
    "\n",
    "\n",
    "Before we can do any testing, it is best practice to structure and then package your code up as a python project. You don't have to do it like this, but it carries with it the benefit that many other tutorials _expect_ you to do it like this, and generally you want to reduce friction for yourself later. \n",
    "\n",
    "Like all things programming, there are many opinions about how python projects should be structured, as I write this the structure of this repository is this: (This is the lightly edited output of the `tree` command if you're interested) \n",
    "```bash\n",
    ".\n",
    "├── CITATION.cff # This file describes how to cite the work contained in this repository.\n",
    "├── LICENSE # Outlines what legal rights you have to use this software.\n",
    "├── README.md # You are here!\n",
    "├── docs\n",
    "│   ├── ... #Files to do with making the documentation\n",
    "│   └── learning\n",
    "│       └── #The Jupyter notebooks that form the main body of this project\n",
    "│\n",
    "├── pyproject.toml # Machine readable information about the MCFF package\n",
    "├── readthedocs.yml # Tells readthedocs.com how to build the documentation\n",
    "├── environment.yml # A specification for building a conda environment including all the dependencies\n",
    "├── setup.cfg # Machine readable information about the MCFF package\n",
    "├── src\n",
    "│   └── MCFF # The actual code!\n",
    "│\n",
    "└── tests # automated tests for the code\n",
    "```\n",
    "\n",
    "It looks pretty intimidating! But let's quickly go through it: at the top level of most projects you'll find on GitHub (and elsewhere) there are a group of files that describe the project as a whole or provide key project information - not all projects will have all of these files and, indeed, there a variety of other files that you may also see so this is an example of some of the more important files:\n",
    "- `README.md` - An intro to the project\n",
    "- `LICENSE` - The software license that governs this project, there are a few standard ones people use.\n",
    "- `environment.yml` (or alternatives) - this lists what Python packages the project needs in a standard format (other languages have equivalents).\n",
    "- `CITATION.cff` This is the new standard way to describe how a work should be cited, v useful for academic software.\n",
    "\n",
    "Then below that you will usually have directories breaking the project up into main categories, here I have `src/` and `docs/learning/`.\n",
    "\n",
    "Inside `src/` we have a standard Python package directory structure.\n",
    "\n",
    "## Packaging\n",
    "There are a few things going on here, our actual code lives in `MCFF/` which is wrapped up inside a `src` folder, the `src` thing is a convention related to pytests, check [Packaging for pytest](https://docs.pytest.org/en/6.2.x/goodpractices.html) if you want the gory details.\n",
    "\n",
    "Inside `MCFF/` we have our files that will become submodules so that in python we will be able to do things like:\n",
    "\n",
    "```python\n",
    "from MCFF.ising_model import all_up_state, all_down_state, random_state\n",
    "from MCFF import mcmc #once we've written this that is!\n",
    "```\n",
    "\n",
    "`pyproject.toml` and `setup.cfg` are the current way to describe the metadata about a python package like how it should be installed and who the author is etc, but typically you just copy the standard layouts and build from there. The empty `__init__.py` file flags that this folder is a python module.\n",
    "\n",
    "pyproject.toml:\n",
    "```toml\n",
    "[build-system]\n",
    "requires = [\"setuptools>=4.2\"]\n",
    "build-backend = \"setuptools.build_meta\"\n",
    "```\n",
    "\n",
    "setup.cfg\n",
    "```ini\n",
    "[metadata]\n",
    "name = MCFF\n",
    "version = 0.0.1\n",
    "author = Tom Hodson\n",
    "author_email = tch14@ic.ac.uk\n",
    "description = A small example package\n",
    "long_description = file: README.md\n",
    "long_description_content_type = text/markdown\n",
    "url = https://github.com/TomHodson/MCMC_for_fun_and_profit\n",
    "classifiers =\n",
    "    Programming Language :: Python :: 3\n",
    "    License :: OSI Approved :: The 3-Clause BSD License\n",
    "    Operating System :: OS Independent\n",
    "\n",
    "[options]\n",
    "package_dir =\n",
    "    = src\n",
    "packages = find:\n",
    "python_requires = >=3.6\n",
    "install_requires =\n",
    "    numpy == 1.21\n",
    "    scipy == 1.7\n",
    "    matplotlib == 3.5\n",
    "    numba == 0.55\n",
    "\n",
    "[options.extras_require]\n",
    "dev =\n",
    "    pytest == 7.1       # Testing\n",
    "    pytest-cov == 3.0   # For Coverage testing\n",
    "    hypothesis == 6.29  # Property based testing\n",
    "    pre-commit == 2.20\n",
    "    jupyterlab == 3.4.3\n",
    "    ipykernel == 6.9  # Allows this conda environment to show up automatically in Jupyter Lab\n",
    "    watermark == 2.3  # Generates a summary of package version for use inside Jupyter Notebooks\n",
    "\n",
    "docs =\n",
    "    sphinx == 5.0.0\n",
    "    myst-nb == 0.16.0\n",
    "\n",
    "[options.packages.find]\n",
    "where = src\n",
    "```\n",
    "Phew, that was a lot. Python packaging has been evolving a lot over the years and the consequence is there is a lot of out of date advice and there are many other ways to do this. You're best bet to figure out what the current best practice is to consult official sources like python.org."
   ]
  },
  {
   "cell_type": "markdown",
   "id": "cef1ba97-db03-45ce-b428-a027133eabc9",
   "metadata": {},
   "source": [
    "Once all that is set up, from the top level of the project you can run:\n",
    "```bash\n",
    "pip install --editable \".[dev,docs]\"\n",
    "```\n",
    "The dot means we should install MCFF from the current directory and `--editable` means to do it as an editable package so that we can edit the files in MCFF and not have to reinstall. This is really useful for development. `[dev,docs]` means we also want to install the packages that are needed to do development of this repository and to build the documentation, both those things will become relevant later!"
   ]
  },
  {
   "cell_type": "markdown",
   "id": "3db75fb8-8229-41f4-8004-463b832cd4a4",
   "metadata": {},
   "source": [
    "In the next notebook, we will finally write the Markov Chain Monte Carlo function! And if you found yourself frustrated while dealing with python packaging, you can at least take solace in the fact that you're not the only one:\n",
    "\n",
    "<img style=\"max-width:700px;margin:auto;\" src = \"https://imgs.xkcd.com/comics/python_environment.png\" alt = \"An xkcd comic with a diagram of p values, saying that small ones are highly significant and giving humorous excuses for why larger ones are still intersting\">"
   ]
  },
  {
   "cell_type": "code",
   "execution_count": 1,
   "id": "c4752c3c-5550-4052-bcef-0683460cd010",
   "metadata": {},
   "outputs": [
    {
     "name": "stdout",
     "output_type": "stream",
     "text": [
      "Author: Thomas Hodson\n",
      "\n",
      "Github username: T_Hodson\n",
      "\n",
      "Last updated: Mon Jul 18 2022\n",
      "\n",
      "Python implementation: CPython\n",
      "Python version       : 3.9.12\n",
      "IPython version      : 8.4.0\n",
      "\n",
      "Git hash: 03657e08835fdf23a808f59baa6c6a9ad684ee55\n",
      "\n",
      "Git repo: https://github.com/ImperialCollegeLondon/ReCoDE_MCMCFF.git\n",
      "\n",
      "Git branch: main\n",
      "\n",
      "Watermark: 2.3.1\n",
      "\n"
     ]
    }
   ],
   "source": [
    "%load_ext watermark\n",
    "%watermark -n -u -v -iv -w -g -r -b -a \"Thomas Hodson\" -gu \"T_Hodson\""
   ]
  }
 ],
 "metadata": {
  "kernelspec": {
   "display_name": "Python [conda env:recode]",
   "language": "python",
   "name": "conda-env-recode-py"
  },
  "language_info": {
   "codemirror_mode": {
    "name": "ipython",
    "version": 3
   },
   "file_extension": ".py",
   "mimetype": "text/x-python",
   "name": "python",
   "nbconvert_exporter": "python",
   "pygments_lexer": "ipython3",
   "version": "3.9.12"
  }
 },
 "nbformat": 4,
 "nbformat_minor": 5
}
