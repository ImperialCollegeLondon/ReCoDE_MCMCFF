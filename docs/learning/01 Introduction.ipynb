{
 "cells": [
  {
   "cell_type": "markdown",
   "id": "0aadee51-c8d7-4b72-b281-bf2daca49811",
   "metadata": {
    "tags": []
   },
   "source": [
    "<h1 align=\"center\">Markov Chain Monte Carlo for fun and profit</h1>\n",
    "<h1 align=\"center\"> 🎲 ⛓️ 👉 🧪 </h1>\n",
    "\n",
    "# Introduction\n",
    "\n",
    "Hello and welcome to the documentation for MCMCFF! These notebooks will guide you through the process of writing a medium-sized scientific software project, discussing the decision and trade-offs made along the way.\n",
    "\n",
    "## Setting up your environment\n",
    "\n",
    "It's **strongly encouraged** that you follow along this series of notebooks in an environment where you can run the cells yourself and change them. You can either clone this git repository and run the cells in a Python environment on your local machine,\n",
    "\n",
    "```bash\n",
    "git clone https://github.com/ImperialCollegeLondon/ReCoDE_MCMCFF mcmc\n",
    "cd mcmc\n",
    "```\n",
    "\n",
    "or if for some reason you can't do that (because you are on a phone or tablet for instance) you can instead open this notebook in [binder](https://mybinder.org/v2/gh/TomHodson/ReCoDE_MCMCFF/HEAD)\n",
    "\n",
    "I would also suggest you set up a Python environment just for this project. You can use your preferred method to do this, but I will recommend `Anaconda` because it's both what I currently use and what is recommended by Imperial.\n",
    "\n",
    "```bash\n",
    "#make a new conda environment from the specification in environment.yml\n",
    "conda env create --file environment.yml\n",
    "\n",
    "#activate the environment\n",
    "conda activate mcmc\n",
    "```\n",
    "\n",
    "If you'd prefer to keep this environment nicely stored away in this repository, you can save in a folder called env by doing\n",
    "\n",
    "```bash\n",
    "conda env create --prefix env --file environment.yml\n",
    "conda activate ./env #you have to run this in the enclosing directory of course!\n",
    "```\n",
    "\n",
    "Further Reading on how to set up an environment:\n",
    "- [Software Carpentry](https://carpentries-incubator.github.io/introduction-to-conda-for-data-scientists/02-working-with-environments/index.html) More practical.\n",
    "- [The Turing Way](https://the-turing-way.netlify.app/reproducible-research/renv.html) Discusses why we use environments.\n",
    "- [Essential Software Engineering for Researchers](https://imperialcollegelondon.github.io/grad_school_software_engineering_course/l1-01-tools-I/index.html) Quick overview.\n",
    "\n",
    "\n",
    "\n",
    "## The Problem\n",
    "\n",
    "So without further ado lets talk about the problem we'll be working on, you don't necessarily need to understand the full details of this to learn the important lessons, but I will give a quick summary here. We want to simulate a physical model called the **Ising model**, which is famous in physics because it's about the simplest thing you can come up with that displays a phase transition, a special kind of shift between two different behaviours."
   ]
  },
  {
   "cell_type": "markdown",
   "id": "e2e5299a-5e20-417f-a62e-ce47d018d542",
   "metadata": {},
   "source": [
    "I'm going to weave exposition and code here so don't mind if I just take a moment to impor some packages and do some housekeeping:"
   ]
  },
  {
   "cell_type": "code",
   "execution_count": 1,
   "id": "ee600e16-506b-4676-8d84-16b415338191",
   "metadata": {},
   "outputs": [],
   "source": [
    "import numpy as np\n",
    "import matplotlib.pyplot as plt\n",
    "\n",
    "# This loads some custom styles for matplotlib\n",
    "import json, matplotlib\n",
    "\n",
    "with open(\"../_static/matplotlibrc.json\") as f:\n",
    "    matplotlib.rcParams.update(json.load(f))\n",
    "\n",
    "np.random.seed(\n",
    "    42\n",
    ")  # This makes our random numbers reproducible when the notebook is rerun in order"
   ]
  },
  {
   "cell_type": "markdown",
   "id": "e52245f1-8ecc-45f1-8d52-337916b0ce7c",
   "metadata": {},
   "source": [
    "We're going to be working with arrays of numbers, so it will make sense to work with `NumPy`, and we'll also want to plot things, the standard choice for this is `Matplotlib`, though there are other options, `pandas` and `Plotly` being notable ones.\n",
    "\n",
    "Let me quickly plot something to aid the imagination:"
   ]
  },
  {
   "cell_type": "code",
   "execution_count": 2,
   "id": "7b05be8f-9edb-4742-bbfc-e892cc09b82b",
   "metadata": {},
   "outputs": [
    {
     "data": {
      "image/png": "[encoded data removed]",
      "text/plain": [
       "<Figure size 550x550 with 1 Axes>"
      ]
     },
     "metadata": {},
     "output_type": "display_data"
    }
   ],
   "source": [
    "state = np.random.choice([-1, 1], size=(100, 100))\n",
    "\n",
    "\n",
    "def show_state(state, ax=None):\n",
    "    if ax is None:\n",
    "        f, ax = plt.subplots()\n",
    "    ax.matshow(state, cmap=\"Greys\", vmin=-1, vmax=1)\n",
    "    ax.set(xticks=[], yticks=[])\n",
    "\n",
    "\n",
    "show_state(state)"
   ]
  },
  {
   "cell_type": "markdown",
   "id": "9a919be9-2737-4d79-9607-4daf3b457364",
   "metadata": {},
   "source": [
    "In my head, the Ising model is basically all about peer pressure. You're a tiny creature, and you live in a little world where you can only be one of two things, up/down, left/right, in/out doesn't matter. \n",
    "\n",
    "But what *does matter* is that you're doing the same thing as you're neighbours. We're going to visualise this with images like the above, representing the two different camps, though at the moment what I've plotted is random, there's no peer pressure going on yet.\n",
    "\n",
    "The way that a physicist would quantify this peer pressure is to assign a number to each state, lower numbers meaning more of the little creatures are doing the same thing as their neighbours. We'll call this the Energy, because physicists always call things Energy, that's just what we do.\n",
    "\n",
    "To calculate the energy what we're going to do is look at all the pixels/creatures, and for each one, we look at the four neighbours to the N/E/S/W, every time we find a neighbour that agrees, we'll subtract 1 from our total and every time we find neighbours that disagree we'll add 1 to our total. Creatures at the edges will simply have fewer neighbours to worry about. \n",
    "\n",
    "I'll show you what the equation for this looks like, but don't worry too much about it, the word description should be enough to write some code. If we assign the ith creature the label $s_i = \\pm1$ then the energy is \n",
    "$$E = \\sum_{(i,j)} s_i s_j$$\n",
    "\n",
    "Ok let's do some little tests, let's make the all up, all down and random state and see if we can compute their energies."
   ]
  },
  {
   "cell_type": "code",
   "execution_count": 3,
   "id": "340a78e7-6c1d-4742-8dca-6d3bea492856",
   "metadata": {},
   "outputs": [
    {
     "data": {
      "image/png": "[encoded data removed]",
      "text/plain": [
       "<Figure size 2200x550 with 4 Axes>"
      ]
     },
     "metadata": {},
     "output_type": "display_data"
    }
   ],
   "source": [
    "all_up = np.ones([100, 100])\n",
    "all_down = -np.ones([100, 100])\n",
    "random = np.random.choice([-1, 1], size=(100, 100))\n",
    "\n",
    "from matplotlib.image import imread\n",
    "\n",
    "custom = (\n",
    "    1 - 2 * imread(\"data/test_state.png\")[:, :, 0]\n",
    ")  # load a 100x100 png, take the red channel, remap 0,1 to -1,1\n",
    "\n",
    "states = [all_up, all_down, random, custom]\n",
    "\n",
    "f, axes = plt.subplots(ncols=4, figsize=(20, 5))\n",
    "for ax, state in zip(axes, states):\n",
    "    show_state(state, ax=ax)"
   ]
  },
  {
   "cell_type": "markdown",
   "id": "2ed02839-81c0-45ff-87c9-a429ea8ccf51",
   "metadata": {},
   "source": [
    "If you stare at the first two long enough you'll realise we can figure out the energy of all_up and all_down without writing any code at all:\n",
    "\n",
    "<div style=\"margin:auto;max-width:800px;\">\n",
    "<img src=\"../_static/energy_diagram.png\"/>\n",
    "</div>\n",
    "\n",
    "So we know that for the first two:\n",
    "$$E = \\frac{1}{L^2} (4(L-2)^2 + 12(L-2) + 8)$$\n",
    "\n",
    "And for the random case we can make a pretty good guess that it should be zero on average. And the last we will just use to as a testcase."
   ]
  },
  {
   "cell_type": "code",
   "execution_count": 4,
   "id": "c2e63baa-8d97-41f3-9070-013aa6bf83bd",
   "metadata": {},
   "outputs": [
    {
     "name": "stdout",
     "output_type": "stream",
     "text": [
      "For L = 100, We predict E = -39600\n"
     ]
    }
   ],
   "source": [
    "def E_prediction_all_the_same(L):\n",
    "    return -(4 * (L - 2) ** 2 + 12 * (L - 2) + 8)\n",
    "\n",
    "\n",
    "L = 100\n",
    "print(f\"For L = {L}, We predict E = {E_prediction_all_the_same(L)}\")"
   ]
  },
  {
   "cell_type": "markdown",
   "id": "8351475b-73cb-4cd9-9fe8-3b60af0b5a6a",
   "metadata": {},
   "source": [
    "## Exercise 1: Write a function to compute the energy of a state\n",
    "\n",
    "See if you can write a function that calculates the energy and reproduces all the above cases. "
   ]
  },
  {
   "cell_type": "code",
   "execution_count": 5,
   "id": "36ac021b-1da4-48d1-9cad-6ae3ba1e7e61",
   "metadata": {},
   "outputs": [
    {
     "data": {
      "image/png": "[encoded data removed]",
      "text/plain": [
       "<Figure size 1100x1100 with 4 Axes>"
      ]
     },
     "metadata": {},
     "output_type": "display_data"
    }
   ],
   "source": [
    "# you are welcome to solve this in any way you like, I've just filled out a very simple way to do it\n",
    "def energy(state):\n",
    "    E = 0\n",
    "    N, M = state.shape\n",
    "    for i in range(N):\n",
    "        for k in range(M):\n",
    "            # your code goes here\n",
    "            pass\n",
    "    return E / (N * M)\n",
    "\n",
    "\n",
    "expected_values = [\n",
    "    E_prediction_all_the_same(100),\n",
    "    E_prediction_all_the_same(100),\n",
    "    0,\n",
    "    \"???\",\n",
    "]\n",
    "\n",
    "f, axes = plt.subplots(ncols=2, nrows=2, figsize=(10, 10))\n",
    "axes = axes.flatten()\n",
    "for ax, state, exp_value in zip(axes, states, expected_values):\n",
    "    show_state(state, ax=ax)\n",
    "    ax.text(\n",
    "        0,\n",
    "        -0.1,\n",
    "        f\"Expected Value: {exp_value}, Your value: {energy(state)}\",\n",
    "        transform=ax.transAxes,\n",
    "    )"
   ]
  },
  {
   "cell_type": "markdown",
   "id": "9d1d3514-aa70-4602-97a3-5d31445635a7",
   "metadata": {},
   "source": [
    "## Solution 1"
   ]
  },
  {
   "cell_type": "code",
   "execution_count": 6,
   "id": "ad4bf3dc-d1be-4253-b5ab-18086b688d27",
   "metadata": {},
   "outputs": [
    {
     "data": {
      "image/png": "[encoded data removed]",
      "text/plain": [
       "<Figure size 1100x1100 with 4 Axes>"
      ]
     },
     "metadata": {},
     "output_type": "display_data"
    }
   ],
   "source": [
    "def energy(state):\n",
    "    E = 0\n",
    "    N, M = state.shape\n",
    "    for i in range(N):\n",
    "        for j in range(M):\n",
    "            # handle the north and south neighbours\n",
    "            for di in [1, -1]:\n",
    "                if 0 <= (i + di) < N:\n",
    "                    E -= state[i, j] * state[i + di, j]\n",
    "\n",
    "            # handle the east and west neighbours\n",
    "            for dj in [1, -1]:\n",
    "                if 0 <= (j + dj) < M:\n",
    "                    E -= state[i, j] * state[i, j + dj]\n",
    "\n",
    "    return E\n",
    "\n",
    "\n",
    "expected_values = [\n",
    "    E_prediction_all_the_same(100),\n",
    "    E_prediction_all_the_same(100),\n",
    "    0,\n",
    "    \"???\",\n",
    "]\n",
    "\n",
    "f, axes = plt.subplots(ncols=2, nrows=2, figsize=(10, 10))\n",
    "axes = axes.flatten()\n",
    "for ax, state, exp_value in zip(axes, states, expected_values):\n",
    "    show_state(state, ax=ax)\n",
    "    ax.text(\n",
    "        0,\n",
    "        -0.1,\n",
    "        f\"Expected Value: {exp_value}, Your value: {energy(state)}\",\n",
    "        transform=ax.transAxes,\n",
    "    )"
   ]
  },
  {
   "cell_type": "markdown",
   "id": "84ee0a62-6ab1-4565-a236-2ccfcc378acc",
   "metadata": {},
   "source": [
    "It's a bit tricky to know what to do with the random value, let's try running it 100 times and see what we get:"
   ]
  },
  {
   "cell_type": "code",
   "execution_count": 7,
   "id": "686782b5-aa37-4084-9786-538fdc89fef1",
   "metadata": {},
   "outputs": [
    {
     "name": "stdout",
     "output_type": "stream",
     "text": [
      "mean = -0.24, standard error = 29.819071481184658\n"
     ]
    },
    {
     "data": {
      "image/png": "[encoded data removed]",
      "text/plain": [
       "<Figure size 550x550 with 1 Axes>"
      ]
     },
     "metadata": {
      "needs_background": "light"
     },
     "output_type": "display_data"
    }
   ],
   "source": [
    "L = 100  # How large the system should be\n",
    "N = 100  # How many random samples to use\n",
    "energies = [energy(np.random.choice([-1, 1], size=(L, L))) for _ in range(N)]\n",
    "plt.hist(energies)\n",
    "print(f\"mean = {np.mean(energies)}, standard error = {np.std(energies) / np.sqrt(N)}\")"
   ]
  },
  {
   "cell_type": "markdown",
   "id": "8da38c5b-f166-4530-b046-3600b4d84c5d",
   "metadata": {},
   "source": [
    "If you run this a few times you'll see the mean is usually within a few standard errors of 0, which gives us some confidence. In the testing section we will discuss how we might go about doing automated tests of random variables like this. "
   ]
  },
  {
   "cell_type": "markdown",
   "id": "3bd3831b-f8de-4a8e-aaf6-7aa158cf9d82",
   "metadata": {},
   "source": [
    "### Making it a little faster\n",
    "\n",
    "This project is not intended to focus on optimising for performance, but it is worth putting a little effort into making this function faster so that we can run experiments more quickly later.\n",
    "\n",
    "The main thing that slows us down here is that we've written a 'tight loop' in pure python, the energy function is just a loop over the fundamental operation:\n",
    "```python\n",
    "E -= state[i,j] * state[i+di, j]\n",
    "```\n",
    "which in theory only requires a few memory load operations, a multiply, an add and a store back to memory (give or take). However, because Python is such a dynamic language, it will have to do extra things like check the type and methods of `state` and `E`, invoke their array access methods `object.__get__`, etc. We call this extra work overhead.\n",
    "\n",
    "In most cases the ratio of overhead to actual computation is not too bad, but here because the fundamental computation is so simple it's likely the overhead accounts for much more of the overall time.\n",
    "\n",
    "In scientific python like this there are usually two main options for reducing the overhead:\n",
    "\n",
    "#### Using Arrays\n",
    "One way is we work with arrays of numbers and operations defined over those arrays such as `sum`, `product` etc. `NumPy` is the canonical example of this in Python, but many machine learning libraries are essentially doing a similar thing. We rely on the library to implement the operations efficiently and try to chain those operations together to achieve what we want. This imposes some limitations on the way we can write our code.\n",
    "\n",
    "#### Using Compilation\n",
    "The alternative is that we convert our Python code into a more efficient form that incurs less overhead. This requires a compilation or transpilation step and imposes a different set of constraints on the code.\n",
    "\n",
    "It's a little tricky to decide which of the two approaches will work best for a given problem. My advice would be to have some familiarity with both but ultimately to use what makes your development experience the best, since you'll likely spend more time writing the code than you will waiting for it to run!"
   ]
  },
  {
   "cell_type": "markdown",
   "id": "6b2ed23c-32f2-40af-bf45-e60004c275a2",
   "metadata": {},
   "source": [
    "## Exercise 2: Write a faster version of `energy(state)`\n",
    "\n",
    "You can use `numpy`, `numba`, `cython`, or anything else, by what factor can you beat the naive approach? Numba is probably the easiest here."
   ]
  },
  {
   "cell_type": "code",
   "execution_count": 8,
   "id": "40386cda-cc14-4fdd-8f9f-71840d1ebb40",
   "metadata": {},
   "outputs": [
    {
     "name": "stdout",
     "output_type": "stream",
     "text": [
      "Naive baseline implementation\n",
      "80.9 ms ± 2.94 ms per loop (mean ± std. dev. of 7 runs, 10 loops each)\n",
      "\n",
      "Your version\n",
      "80.2 ms ± 4.99 ms per loop (mean ± std. dev. of 7 runs, 10 loops each)\n",
      "Your speedup: 1x !\n"
     ]
    }
   ],
   "source": [
    "def test_energy_function(energy_function):\n",
    "    assert np.all(energy_function(state) == energy(state) for state in states)\n",
    "\n",
    "\n",
    "def time_energy_function(energy_function):\n",
    "    return [energy_function(state) for state in states]\n",
    "\n",
    "\n",
    "def your_faster_energy_function(state):\n",
    "    return energy(\n",
    "        state\n",
    "    )  # <-- replace this with your implementation and compare how fast it runs!\n",
    "\n",
    "\n",
    "print(\"Naive baseline implementation\")\n",
    "test_energy_function(\n",
    "    energy\n",
    ")  # this should always pass because it's just comparing to itself!\n",
    "naive = %timeit -o -n 10 time_energy_function(energy)\n",
    "\n",
    "print(\"\\nYour version\")\n",
    "test_energy_function(your_faster_energy_function)\n",
    "yours = %timeit -o -n 10 time_energy_function(your_faster_energy_function)\n",
    "print(f\"Your speedup: {naive.best/yours.best :.0f}x !\")"
   ]
  },
  {
   "cell_type": "markdown",
   "id": "a27bb821-c33f-4966-8676-4295cfd695ab",
   "metadata": {},
   "source": [
    "## Solution 2"
   ]
  },
  {
   "cell_type": "code",
   "execution_count": 9,
   "id": "c96720d4-2c0b-4fa5-b9ce-4fc7be533a62",
   "metadata": {},
   "outputs": [
    {
     "name": "stdout",
     "output_type": "stream",
     "text": [
      "Naive baseline implementation\n",
      "81.2 ms ± 3.2 ms per loop (mean ± std. dev. of 7 runs, 10 loops each)\n",
      "\n",
      "Numba version\n",
      "212 µs ± 20.5 µs per loop (mean ± std. dev. of 7 runs, 10 loops each)\n",
      "Numba Speedup: 420x !\n",
      "\n",
      "Numpy version\n",
      "153 µs ± 37.5 µs per loop (mean ± std. dev. of 7 runs, 10 loops each)\n",
      "Numpy Speedup: 576x !\n"
     ]
    }
   ],
   "source": [
    "def test_energy_function(energy_function):\n",
    "    return [energy_function(state) for state in states]\n",
    "\n",
    "\n",
    "from numba import jit\n",
    "\n",
    "\n",
    "@jit(nopython=True)\n",
    "def numba_energy(state):\n",
    "    E = 0\n",
    "    N, M = state.shape\n",
    "    for i in range(N):\n",
    "        for j in range(M):\n",
    "            # handle the north and south neighbours\n",
    "            for di in [1, -1]:\n",
    "                if 0 <= (i + di) < N:\n",
    "                    E -= state[i, j] * state[i + di, j]\n",
    "\n",
    "            # handle the east and west neighbours\n",
    "            for dj in [1, -1]:\n",
    "                if 0 <= (j + dj) < M:\n",
    "                    E -= state[i, j] * state[i, j + dj]\n",
    "\n",
    "    return E\n",
    "\n",
    "\n",
    "def numpy_energy(state):\n",
    "    E = -np.sum(state[:-1, :] * state[1:, :]) - np.sum(state[:, :-1] * state[:, 1:])\n",
    "    return 2 * E\n",
    "\n",
    "\n",
    "print(\"Naive baseline implementation\")\n",
    "naive = %timeit -o -n 10 time_energy_function(energy)\n",
    "\n",
    "print(\"\\nNumba version\")\n",
    "test_energy_function(numba_energy)\n",
    "numba = %timeit -n 10 -o time_energy_function(numba_energy)\n",
    "print(f\"Numba Speedup: {naive.best/numba.best :.0f}x !\")\n",
    "\n",
    "print(\"\\nNumpy version\")\n",
    "test_energy_function(numpy_energy)\n",
    "numpy = %timeit -n 10 -o time_energy_function(numpy_energy)\n",
    "print(f\"Numpy Speedup: {naive.best/numpy.best :.0f}x !\")"
   ]
  },
  {
   "cell_type": "markdown",
   "id": "7d80c912-3773-4c53-a4e9-3f7ee66e2e0f",
   "metadata": {},
   "source": [
    "While writing the above faster versions I realised two things, first there was a bug in my code! I had written \n",
    "```python\n",
    "for dj in [1,-1]:\n",
    "    if 0 <= (j + dj) < M:\n",
    "        E -= state[i,j] * state[i+di, j]\n",
    "```\n",
    "where I of course meant to have:\n",
    "```python\n",
    "for dj in [1,-1]:\n",
    "    if 0 <= (j + dj) < M:\n",
    "        E -= state[i,j] * state[i, j+dj]\n",
    "```\n",
    "I found this while writing the numpy version because the two functions were not giving the same results, I didn't pick it up from writing the numba code because as you can see I just copied the implementation over. So the first lesson is that simple test cases don't always catch even relatively obvious bugs. \n",
    "\n",
    "The second thing was that even my naive function was doing more work than it needed to! Because if the symmetry of how two neighbours talks to each other, we can rewrite the code as:"
   ]
  },
  {
   "cell_type": "code",
   "execution_count": 10,
   "id": "755ec34c-4975-467f-a559-f585f9d6a42f",
   "metadata": {},
   "outputs": [
    {
     "name": "stdout",
     "output_type": "stream",
     "text": [
      "\n",
      "Improved Naive version\n",
      "34.6 ms ± 147 µs per loop (mean ± std. dev. of 7 runs, 10 loops each)\n",
      "Speedup: 2x !\n"
     ]
    }
   ],
   "source": [
    "def energy2(state):\n",
    "    E = 0\n",
    "    N, M = state.shape\n",
    "    for i in range(N):\n",
    "        for j in range(M):\n",
    "            # handle the north and south neighbours\n",
    "            if 0 <= (i + 1) < N:\n",
    "                E -= state[i, j] * state[i + 1, j]\n",
    "\n",
    "            # handle the east and west neighbours\n",
    "            if 0 <= (j + 1) < M:\n",
    "                E -= state[i, j] * state[i, j + 1]\n",
    "\n",
    "    return 2 * E\n",
    "\n",
    "\n",
    "print(\"\\nImproved Naive version\")\n",
    "energy2(states[0])  # run the function once to let numba compile it before timing it\n",
    "e2 = %timeit -o test_energy_function(energy2)\n",
    "print(f\"Speedup: {naive.best/e2.best :.0f}x !\")"
   ]
  },
  {
   "cell_type": "markdown",
   "id": "5d1874d4-4585-49ed-bc6f-b11c22231669",
   "metadata": {},
   "source": [
    "## Conclusion\n",
    "So far we've discussed the problem we want to solve, written a little code, tested it a bit and made some speed improvements.\n",
    "\n",
    "In the next notebook we will package the code up into a little python package, this has two big benefits when using the code: \n",
    "1. I won't have to redefine the energy function we just wrote in the next notebook \n",
    "1. It will help with testing and documenting our code later"
   ]
  },
  {
   "cell_type": "code",
   "execution_count": 11,
   "id": "c134b337-e1ea-45ed-bd9e-45c81e6d4400",
   "metadata": {},
   "outputs": [
    {
     "name": "stdout",
     "output_type": "stream",
     "text": [
      "Author: Thomas Hodson\n",
      "\n",
      "Github username: T_Hodson\n",
      "\n",
      "Last updated: Mon Jul 18 2022\n",
      "\n",
      "Python implementation: CPython\n",
      "Python version       : 3.9.12\n",
      "IPython version      : 8.4.0\n",
      "\n",
      "Git hash: 03657e08835fdf23a808f59baa6c6a9ad684ee55\n",
      "\n",
      "Git repo: https://github.com/ImperialCollegeLondon/ReCoDE_MCMCFF.git\n",
      "\n",
      "Git branch: main\n",
      "\n",
      "matplotlib: 3.5.1\n",
      "numpy     : 1.21.5\n",
      "json      : 2.0.9\n",
      "\n",
      "Watermark: 2.3.1\n",
      "\n"
     ]
    }
   ],
   "source": [
    "%load_ext watermark\n",
    "%watermark -n -u -v -iv -w -g -r -b -a \"Thomas Hodson\" -gu \"T_Hodson\""
   ]
  }
 ],
 "metadata": {
  "kernelspec": {
   "display_name": "Python 3.8.10 64-bit",
   "language": "python",
   "name": "python3"
  },
  "language_info": {
   "codemirror_mode": {
    "name": "ipython",
    "version": 3
   },
   "file_extension": ".py",
   "mimetype": "text/x-python",
   "name": "python",
   "nbconvert_exporter": "python",
   "pygments_lexer": "ipython3",
   "version": "3.8.10"
  },
  "vscode": {
   "interpreter": {
    "hash": "31f2aee4e71d21fbe5cf8b01ff0e069b9275f58929596ceb00d14d90e3e16cd6"
   }
  }
 },
 "nbformat": 4,
 "nbformat_minor": 5
}
