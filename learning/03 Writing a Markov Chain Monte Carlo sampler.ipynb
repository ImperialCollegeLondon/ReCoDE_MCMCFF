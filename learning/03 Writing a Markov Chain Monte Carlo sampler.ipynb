{
 "cells": [
  {
   "cell_type": "markdown",
   "id": "5ac56056-ca33-4f13-8e36-564b94144c1e",
   "metadata": {
    "tags": []
   },
   "source": [
    "<h1 align=\"center\">Markov Chain Monte Carlo for fun and profit</h1>\n",
    "<h1 align=\"center\"> 🎲 ⛓️ 👉 🧪 </h1>"
   ]
  },
  {
   "cell_type": "code",
   "execution_count": 1,
   "id": "eb5d773e-4cc0-48ae-bb71-7ece7ab5f936",
   "metadata": {},
   "outputs": [],
   "source": [
    "import numpy as np\n",
    "import matplotlib.pyplot as plt\n",
    "from numba import jit\n",
    "\n",
    "# This loads some custom styles for matplotlib\n",
    "import json, matplotlib\n",
    "\n",
    "with open(\"assets/matplotlibrc.json\") as f:\n",
    "    matplotlib.rcParams.update(json.load(f))\n",
    "\n",
    "np.random.seed(\n",
    "    42\n",
    ")  # This makes our random numbers reproducable when the notebook is rerun in order"
   ]
  },
  {
   "cell_type": "markdown",
   "id": "337f1de8-d743-441f-bc15-387bcfff558d",
   "metadata": {
    "tags": []
   },
   "source": [
    "# Doing Monte Carlo!\n",
    "Right now we have:\n",
    "1. A function to evaluate the energy of a state\n",
    "1. That code now lives in a python module called MCFF that we can import\n",
    "1. We've also got some nice tests running that give us some confidence the code is right.\n",
    "\n",
    "\n",
    "There isn't that much more work to do Markov Chain Monte Carlo. I won't go into the details of how MCMC works but put very simply MCMC lets us calculate thermal averages of a physical system at some temperature. For example, the physical system might be \"[$10^{23}$][wa] H20 molecules in a box\" and the thermal average we want is \"Are they organised like a solid or a liquid?\". We can ask that question at different temperatures and we will get different answers.\n",
    "\n",
    "\n",
    "For our Ising model the equivalent question would be what's the average color of this system? At high temperatures we expect the pixels to be random and average out ot grey, while at low temperatures they will all be either black or while.\n",
    "\n",
    "What happens in between? This question is pretty hard to answer using maths, it can be done for the 2D Ising model but for anything more complicated it's pretty much impossible. This is where MCMC comes in.\n",
    "\n",
    "MCMC is a numerical method that lets us calculate these thermal averages. MCMC is essentially a description of how to probalistically step from one state of the system to another. \n",
    "\n",
    "If we perform these steps many times we get a (Markov) chain of states. The great thing about this chain is that if we average a measurement over it, such as looking at the average proportion of white pixels, the answer we get will be close to the real answer for this system and will converge closer and closer to the true answer as we extend the chain. \n",
    "\n",
    "I've written a very basic MCMC sampler for the 2D Ising model below. It needs:\n",
    "- an initial place to start the chain from\n",
    "- how many steps to take\n",
    "- the temperature we want to simulate at\n",
    "- a way to measure the energy of a state, which we wrote in a previous chapter\n",
    "\n",
    "It then loops over:\n",
    "- modify the state a little, here we just flip one bond\n",
    "- accepting $p = \\exp(-\\Delta_E / T)$ based on how the energy changed\n",
    "- if we rejected, change the state back to how it was\n",
    "\n",
    "[wa]: https://www.wolframalpha.com/input?i=%28mass+of+1+litre+of+water+%29%2F%28molecular+weight+of+H2O+*+atomic+mass%29"
   ]
  },
  {
   "cell_type": "code",
   "execution_count": 2,
   "id": "2586a542-35f2-419e-9aa2-2bb9e9ab74b9",
   "metadata": {},
   "outputs": [
    {
     "data": {
      "image/png": "[encoded data removed]",
      "text/plain": [
       "<Figure size 1440x360 with 4 Axes>"
      ]
     },
     "metadata": {},
     "output_type": "display_data"
    }
   ],
   "source": [
    "from MCFF.ising_model import energy, show_state\n",
    "\n",
    "# While writing numba it's useful to keep the list of supported numpy functions open:\n",
    "# https://numba.pydata.org/numba-doc/dev/reference/numpysupported.html\n",
    "@jit(nopython=True, nogil=True)\n",
    "def mcmc(initial_state, steps, T, energy=energy):\n",
    "    N, M = initial_state.shape\n",
    "    assert N == M\n",
    "\n",
    "    current_state = initial_state.copy()\n",
    "    E = N**2 * energy(current_state)\n",
    "    for i in range(steps):\n",
    "        i, j = np.random.randint(N), np.random.randint(N)\n",
    "\n",
    "        # modify the state a little, here we just flip a random pixel\n",
    "        current_state[i, j] *= -1\n",
    "        new_E = N**2 * energy(current_state)\n",
    "\n",
    "        if (new_E < E) or np.exp(-(new_E - E) / T) > np.random.random():\n",
    "            E = new_E\n",
    "        else:\n",
    "            current_state[i, j] *= -1  # reject the change we made\n",
    "\n",
    "    return current_state\n",
    "\n",
    "\n",
    "Ts = [4, 5, 50]\n",
    "\n",
    "ncols = 1 + len(Ts)\n",
    "f, axes = plt.subplots(ncols=ncols, figsize=(5 * ncols, 5))\n",
    "\n",
    "initial_state = np.ones(shape=(50, 50))\n",
    "axes[0].set(title=\"Initial state\")\n",
    "show_state(initial_state, ax=axes[0])\n",
    "\n",
    "for T, ax in zip(Ts, axes[1:]):\n",
    "    # initial_state = rng.choice([1,-1], size = (50,50))\n",
    "\n",
    "    final_state = mcmc(initial_state, steps=100_000, T=T)\n",
    "    show_state(final_state, ax=ax)\n",
    "    ax.set(title=f\"T = {T}\")"
   ]
  },
  {
   "cell_type": "markdown",
   "id": "5d1874d4-4585-49ed-bc6f-b11c22231669",
   "metadata": {},
   "source": [
    "These images give a flavour of why physicists find this model useful, it gives window into how thermal noise and spontaneous order interact. At low temperatures the energy cost of being different from your neighbours is the most important thing, while at high temperatures, it doesn't matter and you really just do your own thing.\n",
    "\n",
    "There's a special point somewhere in the middle called the critical point $T_c$ where all sorts of cool things happen, but my favourite is that for large system sizes you get a kind of fractal behaviour which I will demonstrate more once we've sped this code up and can simulate larger systems in a reasonable time. You can kinda see it for 50x50 systesm at T = 5 but not really clearly."
   ]
  },
  {
   "cell_type": "markdown",
   "id": "5f728039-a975-4083-b68e-a13b4f2d1f87",
   "metadata": {},
   "source": [
    "## Where do we go from here?\n",
    "\n",
    "The code we have so far is really just a sketch of a solution. So this is a good time to step back and think about what are aims are and how this software will fulfil them. I see three broad areas on which it needs improvement:\n",
    "\n",
    "**Functionality**\n",
    "Right now we can't really do much except print nice pictures of states, but (within the fiction of this project) we really want to be able to do science! So we need to think about what measurements and observations we might want to make and how that might affect the structure of our code.\n",
    "\n",
    "**Testing**\n",
    "I've already missed at least one devastating bug in this code, and there are almost certainly more! Before we start adding too much new code we should think about how to increase our confidence that the individual components are working correctly. It's very easy to build a huge project out of hundreds of functions, realise there's a bug and then struggle to find the source of that bug. If we test our components individually and thoroughly, we can avoid some of that pain.\n",
    "\n",
    "**Performance**\n",
    "Performance only matters in so far as it limits what we can do. And there is a real danger that trying to optimise for performance too early or in the wrong places will just lead to complexity that makes the code harder to read, harder to write and more likely to contain bugs. However I do want to show you the fractal states at the critical point, and I can't currently generate those images in a reasonable time, so some optimisation will happen!"
   ]
  }
 ],
 "metadata": {
  "kernelspec": {
   "display_name": "Python [conda env:recode]",
   "language": "python",
   "name": "conda-env-recode-py"
  },
  "language_info": {
   "codemirror_mode": {
    "name": "ipython",
    "version": 3
   },
   "file_extension": ".py",
   "mimetype": "text/x-python",
   "name": "python",
   "nbconvert_exporter": "python",
   "pygments_lexer": "ipython3",
   "version": "3.9.12"
  }
 },
 "nbformat": 4,
 "nbformat_minor": 5
}
